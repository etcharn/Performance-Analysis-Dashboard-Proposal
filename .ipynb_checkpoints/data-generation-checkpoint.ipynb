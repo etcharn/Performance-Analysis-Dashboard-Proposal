{
 "cells": [
  {
   "cell_type": "markdown",
   "id": "a16819ad-0c5e-4543-8d19-846bd9c17eb7",
   "metadata": {},
   "source": [
    "### Generate synthetic data of User Activities and Leads "
   ]
  },
  {
   "cell_type": "markdown",
   "id": "37915906-95e5-4558-8e92-1ca44cbb355b",
   "metadata": {},
   "source": [
    "Notably, the two tables are related as such if Lead_Generated data is True in User Activities Table, there's going to be Lead_Value and Converted value in the Leads Table. Hence, I create a table containing all the data and extract them into 2 tables as instructed."
   ]
  },
  {
   "cell_type": "code",
   "execution_count": 97,
   "id": "c41c48a5-0e96-4242-9fc3-da77b585fee9",
   "metadata": {},
   "outputs": [],
   "source": [
    "# import \n",
    "import pandas as pd\n",
    "from faker import Faker\n",
    "import random\n",
    "from datetime import datetime, timedelta"
   ]
  },
  {
   "cell_type": "code",
   "execution_count": 99,
   "id": "3b6d4eba-6efc-4900-8d60-c5651ffff4af",
   "metadata": {},
   "outputs": [],
   "source": [
    "# Initialize Faker to generate random data\n",
    "fake = Faker()\n",
    "\n",
    "# Create an empty DataFrame to store the data\n",
    "df = pd.DataFrame(columns=['User_ID', 'Activity_Type', 'Activity_Date', 'Lead_Generated', 'Activity_Cost', 'Lead_Value', 'Converted'])\n",
    "\n",
    "# Define the choices for Activity_Type\n",
    "activity_types = ['Value My Car', 'Configurator', 'Finance', 'Book a Test Drive']\n",
    "# Define the choices for lead_generated and converted\n",
    "boolean_choices = [True, False]\n",
    "\n",
    "# Generate 10,000 rows of synthetic data\n",
    "for i in range(1, 10001):\n",
    "    user_id = i\n",
    "    # Shuffle the list of choices for wholly random selection\n",
    "    random.shuffle(activity_types)\n",
    "    activity_type = random.choice(activity_types)\n",
    "    activity_date = fake.date_between_dates(date_start=datetime(2023, 1, 1), date_end=datetime(2023, 12, 31)).strftime('%Y-%m-%d')\n",
    "    random.shuffle(boolean_choices)\n",
    "    lead_generated = random.choice(boolean_choices)\n",
    "    activity_cost = round(random.uniform(0, 10), 1)\n",
    "    lead_value = round(random.uniform(0, 1000), 1) if lead_generated else 0\n",
    "    random.shuffle(boolean_choices)\n",
    "    converted = random.choice(boolean_choices) if lead_generated else False\n",
    "\n",
    "    df.loc[i-1] = [user_id, activity_type, activity_date, lead_generated, activity_cost, lead_value, converted]"
   ]
  },
  {
   "cell_type": "code",
   "execution_count": 100,
   "id": "bd97f0db-f77c-4784-bcb2-9c5a4242684a",
   "metadata": {},
   "outputs": [
    {
     "data": {
      "text/html": [
       "<div>\n",
       "<style scoped>\n",
       "    .dataframe tbody tr th:only-of-type {\n",
       "        vertical-align: middle;\n",
       "    }\n",
       "\n",
       "    .dataframe tbody tr th {\n",
       "        vertical-align: top;\n",
       "    }\n",
       "\n",
       "    .dataframe thead th {\n",
       "        text-align: right;\n",
       "    }\n",
       "</style>\n",
       "<table border=\"1\" class=\"dataframe\">\n",
       "  <thead>\n",
       "    <tr style=\"text-align: right;\">\n",
       "      <th></th>\n",
       "      <th>User_ID</th>\n",
       "      <th>Activity_Type</th>\n",
       "      <th>Activity_Date</th>\n",
       "      <th>Lead_Generated</th>\n",
       "      <th>Activity_Cost</th>\n",
       "      <th>Lead_Value</th>\n",
       "      <th>Converted</th>\n",
       "    </tr>\n",
       "  </thead>\n",
       "  <tbody>\n",
       "    <tr>\n",
       "      <th>0</th>\n",
       "      <td>1</td>\n",
       "      <td>Configurator</td>\n",
       "      <td>2023-01-01</td>\n",
       "      <td>False</td>\n",
       "      <td>4.1</td>\n",
       "      <td>0.0</td>\n",
       "      <td>False</td>\n",
       "    </tr>\n",
       "    <tr>\n",
       "      <th>1</th>\n",
       "      <td>2</td>\n",
       "      <td>Book a Test Drive</td>\n",
       "      <td>2023-01-01</td>\n",
       "      <td>True</td>\n",
       "      <td>2.0</td>\n",
       "      <td>360.3</td>\n",
       "      <td>False</td>\n",
       "    </tr>\n",
       "    <tr>\n",
       "      <th>2</th>\n",
       "      <td>3</td>\n",
       "      <td>Value My Car</td>\n",
       "      <td>2023-01-01</td>\n",
       "      <td>False</td>\n",
       "      <td>9.7</td>\n",
       "      <td>0.0</td>\n",
       "      <td>False</td>\n",
       "    </tr>\n",
       "    <tr>\n",
       "      <th>3</th>\n",
       "      <td>4</td>\n",
       "      <td>Configurator</td>\n",
       "      <td>2023-01-01</td>\n",
       "      <td>True</td>\n",
       "      <td>6.8</td>\n",
       "      <td>685.3</td>\n",
       "      <td>True</td>\n",
       "    </tr>\n",
       "    <tr>\n",
       "      <th>4</th>\n",
       "      <td>5</td>\n",
       "      <td>Book a Test Drive</td>\n",
       "      <td>2023-01-01</td>\n",
       "      <td>False</td>\n",
       "      <td>2.6</td>\n",
       "      <td>0.0</td>\n",
       "      <td>False</td>\n",
       "    </tr>\n",
       "    <tr>\n",
       "      <th>...</th>\n",
       "      <td>...</td>\n",
       "      <td>...</td>\n",
       "      <td>...</td>\n",
       "      <td>...</td>\n",
       "      <td>...</td>\n",
       "      <td>...</td>\n",
       "      <td>...</td>\n",
       "    </tr>\n",
       "    <tr>\n",
       "      <th>9995</th>\n",
       "      <td>9996</td>\n",
       "      <td>Configurator</td>\n",
       "      <td>2023-12-30</td>\n",
       "      <td>True</td>\n",
       "      <td>1.7</td>\n",
       "      <td>502.2</td>\n",
       "      <td>False</td>\n",
       "    </tr>\n",
       "    <tr>\n",
       "      <th>9996</th>\n",
       "      <td>9997</td>\n",
       "      <td>Value My Car</td>\n",
       "      <td>2023-12-30</td>\n",
       "      <td>True</td>\n",
       "      <td>3.6</td>\n",
       "      <td>907.6</td>\n",
       "      <td>False</td>\n",
       "    </tr>\n",
       "    <tr>\n",
       "      <th>9997</th>\n",
       "      <td>9998</td>\n",
       "      <td>Configurator</td>\n",
       "      <td>2023-12-30</td>\n",
       "      <td>True</td>\n",
       "      <td>5.7</td>\n",
       "      <td>389.4</td>\n",
       "      <td>False</td>\n",
       "    </tr>\n",
       "    <tr>\n",
       "      <th>9998</th>\n",
       "      <td>9999</td>\n",
       "      <td>Finance</td>\n",
       "      <td>2023-12-30</td>\n",
       "      <td>True</td>\n",
       "      <td>3.2</td>\n",
       "      <td>491.5</td>\n",
       "      <td>True</td>\n",
       "    </tr>\n",
       "    <tr>\n",
       "      <th>9999</th>\n",
       "      <td>10000</td>\n",
       "      <td>Finance</td>\n",
       "      <td>2023-12-30</td>\n",
       "      <td>True</td>\n",
       "      <td>9.9</td>\n",
       "      <td>515.6</td>\n",
       "      <td>False</td>\n",
       "    </tr>\n",
       "  </tbody>\n",
       "</table>\n",
       "<p>10000 rows × 7 columns</p>\n",
       "</div>"
      ],
      "text/plain": [
       "      User_ID      Activity_Type Activity_Date  Lead_Generated  Activity_Cost  \\\n",
       "0           1       Configurator    2023-01-01           False            4.1   \n",
       "1           2  Book a Test Drive    2023-01-01            True            2.0   \n",
       "2           3       Value My Car    2023-01-01           False            9.7   \n",
       "3           4       Configurator    2023-01-01            True            6.8   \n",
       "4           5  Book a Test Drive    2023-01-01           False            2.6   \n",
       "...       ...                ...           ...             ...            ...   \n",
       "9995     9996       Configurator    2023-12-30            True            1.7   \n",
       "9996     9997       Value My Car    2023-12-30            True            3.6   \n",
       "9997     9998       Configurator    2023-12-30            True            5.7   \n",
       "9998     9999            Finance    2023-12-30            True            3.2   \n",
       "9999    10000            Finance    2023-12-30            True            9.9   \n",
       "\n",
       "      Lead_Value  Converted  \n",
       "0            0.0      False  \n",
       "1          360.3      False  \n",
       "2            0.0      False  \n",
       "3          685.3       True  \n",
       "4            0.0      False  \n",
       "...          ...        ...  \n",
       "9995       502.2      False  \n",
       "9996       907.6      False  \n",
       "9997       389.4      False  \n",
       "9998       491.5       True  \n",
       "9999       515.6      False  \n",
       "\n",
       "[10000 rows x 7 columns]"
      ]
     },
     "execution_count": 100,
     "metadata": {},
     "output_type": "execute_result"
    }
   ],
   "source": [
    "# sort the DataFrame by Activity Date\n",
    "df.sort_values(by = 'Activity_Date', inplace = True)\n",
    "# reset index\n",
    "df.reset_index(drop = True, inplace = True)\n",
    "# Assign index to User_ID, so the User_ID is the natural number (counting number) starting at 1\n",
    "df['User_ID'] = df.index + 1\n",
    "# view the dataframe\n",
    "df"
   ]
  },
  {
   "cell_type": "code",
   "execution_count": 101,
   "id": "60df9663-58a0-4330-842b-e7832505ff88",
   "metadata": {},
   "outputs": [
    {
     "data": {
      "text/plain": [
       "array([ 4.1,  2. ,  9.7,  6.8,  2.6,  4.3,  8.3,  2.2,  1.2,  5.7,  7.4,\n",
       "        1. ,  2.9,  7.6,  4.6,  4.4,  4.9,  7.7,  8.1,  3.4,  4. ,  6.5,\n",
       "        2.1,  8.7,  9.6,  5.6,  5.2,  2.4,  3.8,  0.9,  3.7,  3.6,  6.9,\n",
       "        5.5,  6.4,  8.2,  4.7,  0. ,  1.8,  3.1,  7.8,  1.3,  1.5,  9.5,\n",
       "        1.7,  5. ,  0.1,  9.3,  0.2,  7. ,  3.5,  9.9,  7.1,  5.8,  9.4,\n",
       "        1.9,  6.3,  7.9,  7.2,  8.8,  3. ,  4.5,  0.7,  5.1,  6.1,  1.1,\n",
       "        5.9, 10. ,  3.3,  7.5,  8.9,  4.2,  8. ,  2.8,  1.4,  0.6,  0.3,\n",
       "        8.4,  0.4,  9.1,  9.2,  4.8,  0.5,  2.7,  8.5,  3.2,  7.3,  8.6,\n",
       "        1.6,  5.4,  0.8,  6.2,  6.6,  3.9,  5.3,  2.5,  6.7,  2.3,  6. ,\n",
       "        9. ,  9.8])"
      ]
     },
     "execution_count": 101,
     "metadata": {},
     "output_type": "execute_result"
    }
   ],
   "source": [
    "df['Activity_Cost'].unique()"
   ]
  },
  {
   "cell_type": "code",
   "execution_count": 102,
   "id": "f49cf315-ef2c-48c8-b17b-a870e0cc2a0e",
   "metadata": {},
   "outputs": [
    {
     "data": {
      "text/plain": [
       "array([  0. , 360.3, 685.3, ..., 389.4, 491.5, 515.6])"
      ]
     },
     "execution_count": 102,
     "metadata": {},
     "output_type": "execute_result"
    }
   ],
   "source": [
    "df['Lead_Value'].unique()"
   ]
  },
  {
   "cell_type": "code",
   "execution_count": 103,
   "id": "9d77a252-2315-45dc-a1fc-8408addb5d24",
   "metadata": {},
   "outputs": [],
   "source": [
    "# Save the DataFrame to an Excel file\n",
    "df.to_excel('User_Activities_and_Leads_combined.xlsx', index=False)"
   ]
  },
  {
   "cell_type": "code",
   "execution_count": null,
   "id": "de2a37dc-e0e0-4d3b-a603-ae1ddfd017f7",
   "metadata": {},
   "outputs": [],
   "source": []
  }
 ],
 "metadata": {
  "kernelspec": {
   "display_name": "Python 3 (ipykernel)",
   "language": "python",
   "name": "python3"
  },
  "language_info": {
   "codemirror_mode": {
    "name": "ipython",
    "version": 3
   },
   "file_extension": ".py",
   "mimetype": "text/x-python",
   "name": "python",
   "nbconvert_exporter": "python",
   "pygments_lexer": "ipython3",
   "version": "3.11.7"
  }
 },
 "nbformat": 4,
 "nbformat_minor": 5
}
